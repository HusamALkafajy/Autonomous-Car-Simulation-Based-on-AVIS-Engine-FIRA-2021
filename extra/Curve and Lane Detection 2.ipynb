{
 "cells": [
  {
   "cell_type": "code",
   "execution_count": 1,
   "metadata": {},
   "outputs": [],
   "source": [
    "import numpy as np\n",
    "import os\n",
    "from scipy.interpolate import interp1d\n",
    "import cv2\n",
    "from glob import glob as g\n",
    "import matplotlib.pyplot as plt"
   ]
  },
  {
   "cell_type": "code",
   "execution_count": 2,
   "metadata": {},
   "outputs": [
    {
     "data": {
      "text/plain": [
       "['outputs\\\\Lane Mask.png',\n",
       " 'outputs\\\\Lane Mask2.png',\n",
       " 'outputs\\\\Lane Mask3.png',\n",
       " 'outputs\\\\Lane Mask4.png',\n",
       " 'outputs\\\\Lane Mask5.png',\n",
       " 'outputs\\\\Lane Mask6.png',\n",
       " 'outputs\\\\Lane Mask7.png']"
      ]
     },
     "execution_count": 2,
     "metadata": {},
     "output_type": "execute_result"
    }
   ],
   "source": [
    "names = g('outputs/*png')\n",
    "names"
   ]
  },
  {
   "cell_type": "code",
   "execution_count": 3,
   "metadata": {},
   "outputs": [
    {
     "name": "stdout",
     "output_type": "stream",
     "text": [
      "outputs\\Lane Mask6.png\n"
     ]
    },
    {
     "data": {
      "image/png": "[encoded data removed]",
      "text/plain": [
       "<Figure size 432x288 with 1 Axes>"
      ]
     },
     "metadata": {
      "needs_background": "light"
     },
     "output_type": "display_data"
    },
    {
     "data": {
      "image/png": "[encoded data removed]",
      "text/plain": [
       "<Figure size 432x288 with 1 Axes>"
      ]
     },
     "metadata": {
      "needs_background": "light"
     },
     "output_type": "display_data"
    },
    {
     "data": {
      "image/png": "[encoded data removed]",
      "text/plain": [
       "<Figure size 432x288 with 1 Axes>"
      ]
     },
     "metadata": {
      "needs_background": "light"
     },
     "output_type": "display_data"
    }
   ],
   "source": [
    "# img = np.load(names[0])\n",
    "i = 5\n",
    "print(names[i])\n",
    "img = cv2.imread(names[i])[...,0]\n",
    "img = cv2.medianBlur(img , 3)\n",
    "img_white, img_yellow = np.split(img, 2, axis = 0)\n",
    "img_l = img_white[:,:128]\n",
    "img_r = img_white[:,128:]\n",
    "\n",
    "plt.imshow(img_l)\n",
    "plt.show()\n",
    "plt.imshow(img_r)\n",
    "plt.show()\n",
    "plt.imshow(img_yellow)\n",
    "plt.show()"
   ]
  },
  {
   "cell_type": "code",
   "execution_count": 4,
   "metadata": {},
   "outputs": [],
   "source": [
    "# contours, hierarchy = cv2.findContours(img, \n",
    "#     cv2.RETR_EXTERNAL, cv2.CHAIN_APPROX_NONE)\n",
    "# img = cv2.drawContours(img, contours, -1, (255, 255, 255), -1)\n",
    "\n",
    "# plt.imshow(img)"
   ]
  },
  {
   "cell_type": "code",
   "execution_count": 5,
   "metadata": {
    "scrolled": true
   },
   "outputs": [
    {
     "data": {
      "text/plain": [
       "(0.0, 255.0)"
      ]
     },
     "execution_count": 5,
     "metadata": {},
     "output_type": "execute_result"
    },
    {
     "data": {
      "image/png": "[encoded data removed]",
      "text/plain": [
       "<Figure size 432x288 with 1 Axes>"
      ]
     },
     "metadata": {
      "needs_background": "light"
     },
     "output_type": "display_data"
    }
   ],
   "source": [
    "img_where = np.argwhere(img_l)\n",
    "x_l = img_where[:, 1]\n",
    "y_l = 255 - img_where[:, 0]\n",
    "\n",
    "img_where = np.argwhere(img_r)\n",
    "x_r = img_where[:, 1] + 128\n",
    "y_r = 255 - img_where[:, 0]\n",
    "\n",
    "img_where = np.argwhere(img_yellow)\n",
    "x = img_where[:, 1]\n",
    "y = 255 - img_where[:, 0]\n",
    "\n",
    "plt.plot(x_r, y_r)\n",
    "plt.plot(x_l, y_l)\n",
    "plt.plot(x, y)\n",
    "\n",
    "plt.xlim([0, 255])\n",
    "plt.ylim([0,255])"
   ]
  },
  {
   "cell_type": "code",
   "execution_count": 6,
   "metadata": {},
   "outputs": [
    {
     "name": "stdout",
     "output_type": "stream",
     "text": [
      "0.0\n",
      "0.560302734375\n",
      "6.05438232421875\n"
     ]
    }
   ],
   "source": [
    "# To detect if we are on the right lane or the left lane\n",
    "print(img_l.mean())\n",
    "print(img_r.mean())\n",
    "print(img_yellow.mean())"
   ]
  },
  {
   "cell_type": "code",
   "execution_count": 7,
   "metadata": {},
   "outputs": [
    {
     "name": "stdout",
     "output_type": "stream",
     "text": [
      "151.31466666666665\n",
      "247.91666666666666\n",
      "204.0\n"
     ]
    }
   ],
   "source": [
    "print(np.mean(np.where(img_yellow[120:150,:]>0), axis=1)[1])\n",
    "print(np.mean(np.where(img_white[120:150,:]>0), axis=1)[1])\n",
    "print((151 + 257) / 2)"
   ]
  },
  {
   "cell_type": "code",
   "execution_count": 8,
   "metadata": {},
   "outputs": [],
   "source": [
    "def interval_avg(x,y):\n",
    "    num_samples = 10\n",
    "    if not x.size:\n",
    "        return None\n",
    "    step = (x.max() - x.min()) // num_samples\n",
    "    argsort = np.argsort(x)\n",
    "    x = x[argsort]\n",
    "    y = y[argsort]\n",
    "    intervals = np.arange(x.min(), x.max(), step)\n",
    "    avgs_x = []\n",
    "    avgs_y = []\n",
    "    for i, inter in enumerate(intervals[:-1]):\n",
    "        avg_y = np.mean(y[(x<intervals[i+1]) & (x>intervals[i])])\n",
    "        avg_x = np.mean(x[(x<intervals[i+1]) & (x>intervals[i])])\n",
    "        avgs_x.append(avg_x)\n",
    "        avgs_y.append(avg_y)\n",
    "    return [np.array(avgs_x), np.array(avgs_y)]"
   ]
  },
  {
   "cell_type": "code",
   "execution_count": null,
   "metadata": {},
   "outputs": [],
   "source": []
  },
  {
   "cell_type": "code",
   "execution_count": 9,
   "metadata": {},
   "outputs": [
    {
     "name": "stderr",
     "output_type": "stream",
     "text": [
      "C:\\Users\\Milad\\anaconda3\\lib\\site-packages\\numpy\\core\\fromnumeric.py:3334: RuntimeWarning: Mean of empty slice.\n",
      "  return _methods._mean(a, axis=axis, dtype=dtype,\n",
      "C:\\Users\\Milad\\anaconda3\\lib\\site-packages\\numpy\\core\\_methods.py:161: RuntimeWarning: invalid value encountered in double_scalars\n",
      "  ret = ret.dtype.type(ret / rcount)\n"
     ]
    },
    {
     "data": {
      "text/plain": [
       "[<matplotlib.lines.Line2D at 0x1f408e28910>]"
      ]
     },
     "execution_count": 9,
     "metadata": {},
     "output_type": "execute_result"
    },
    {
     "data": {
      "image/png": "[encoded data removed]",
      "text/plain": [
       "<Figure size 432x288 with 1 Axes>"
      ]
     },
     "metadata": {
      "needs_background": "light"
     },
     "output_type": "display_data"
    }
   ],
   "source": [
    "# %%timeit\n",
    "out = interval_avg(x_r,y_r)\n",
    "plt.plot(out[0], out[1])"
   ]
  },
  {
   "cell_type": "code",
   "execution_count": 10,
   "metadata": {},
   "outputs": [
    {
     "ename": "TypeError",
     "evalue": "'NoneType' object is not subscriptable",
     "output_type": "error",
     "traceback": [
      "\u001b[1;31m---------------------------------------------------------------------------\u001b[0m",
      "\u001b[1;31mTypeError\u001b[0m                                 Traceback (most recent call last)",
      "\u001b[1;32m<ipython-input-10-064555457bc0>\u001b[0m in \u001b[0;36m<module>\u001b[1;34m\u001b[0m\n\u001b[0;32m      1\u001b[0m \u001b[0mout\u001b[0m \u001b[1;33m=\u001b[0m \u001b[0minterval_avg\u001b[0m\u001b[1;33m(\u001b[0m\u001b[0mx_l\u001b[0m\u001b[1;33m,\u001b[0m\u001b[0my_l\u001b[0m\u001b[1;33m)\u001b[0m\u001b[1;33m\u001b[0m\u001b[1;33m\u001b[0m\u001b[0m\n\u001b[1;32m----> 2\u001b[1;33m \u001b[0mout\u001b[0m\u001b[1;33m[\u001b[0m\u001b[1;36m0\u001b[0m\u001b[1;33m]\u001b[0m \u001b[1;33m=\u001b[0m \u001b[0mout\u001b[0m\u001b[1;33m[\u001b[0m\u001b[1;36m0\u001b[0m\u001b[1;33m]\u001b[0m\u001b[1;33m[\u001b[0m\u001b[1;33m~\u001b[0m\u001b[0mnp\u001b[0m\u001b[1;33m.\u001b[0m\u001b[0misnan\u001b[0m\u001b[1;33m(\u001b[0m\u001b[0mout\u001b[0m\u001b[1;33m[\u001b[0m\u001b[1;36m0\u001b[0m\u001b[1;33m]\u001b[0m\u001b[1;33m)\u001b[0m\u001b[1;33m]\u001b[0m\u001b[1;33m\u001b[0m\u001b[1;33m\u001b[0m\u001b[0m\n\u001b[0m\u001b[0;32m      3\u001b[0m \u001b[0mout\u001b[0m\u001b[1;33m[\u001b[0m\u001b[1;36m1\u001b[0m\u001b[1;33m]\u001b[0m \u001b[1;33m=\u001b[0m \u001b[0mout\u001b[0m\u001b[1;33m[\u001b[0m\u001b[1;36m1\u001b[0m\u001b[1;33m]\u001b[0m\u001b[1;33m[\u001b[0m\u001b[1;33m~\u001b[0m\u001b[0mnp\u001b[0m\u001b[1;33m.\u001b[0m\u001b[0misnan\u001b[0m\u001b[1;33m(\u001b[0m\u001b[0mout\u001b[0m\u001b[1;33m[\u001b[0m\u001b[1;36m1\u001b[0m\u001b[1;33m]\u001b[0m\u001b[1;33m)\u001b[0m\u001b[1;33m]\u001b[0m\u001b[1;33m\u001b[0m\u001b[1;33m\u001b[0m\u001b[0m\n\u001b[0;32m      4\u001b[0m \u001b[1;33m\u001b[0m\u001b[0m\n\u001b[0;32m      5\u001b[0m \u001b[0mdx\u001b[0m \u001b[1;33m=\u001b[0m \u001b[0mnp\u001b[0m\u001b[1;33m.\u001b[0m\u001b[0mgradient\u001b[0m\u001b[1;33m(\u001b[0m\u001b[0mout\u001b[0m\u001b[1;33m[\u001b[0m\u001b[1;36m0\u001b[0m\u001b[1;33m]\u001b[0m\u001b[1;33m)\u001b[0m\u001b[1;33m\u001b[0m\u001b[1;33m\u001b[0m\u001b[0m\n",
      "\u001b[1;31mTypeError\u001b[0m: 'NoneType' object is not subscriptable"
     ]
    }
   ],
   "source": [
    "out = interval_avg(x_l,y_l)\n",
    "out[0] = out[0][~np.isnan(out[0])]\n",
    "out[1] = out[1][~np.isnan(out[1])]\n",
    "\n",
    "dx = np.gradient(out[0])\n",
    "dy = np.gradient(out[1])\n",
    "dy_dx = dy / dx\n",
    "\n",
    "angles = np.rad2deg(np.arctan(dy_dx))\n",
    "print(angles)\n",
    "# print('\\nStd : ', angles.std())\n",
    "# print('Mean : ', angles.mean())\n",
    "\n",
    "dx_white = out[0][-1] - out[0][0]\n",
    "dy_white = out[1][-1] - out[1][0]\n",
    "m_white = dy_yellow / dx_yellow"
   ]
  },
  {
   "cell_type": "code",
   "execution_count": 11,
   "metadata": {},
   "outputs": [
    {
     "name": "stderr",
     "output_type": "stream",
     "text": [
      "C:\\Users\\Milad\\anaconda3\\lib\\site-packages\\numpy\\core\\fromnumeric.py:3334: RuntimeWarning: Mean of empty slice.\n",
      "  return _methods._mean(a, axis=axis, dtype=dtype,\n",
      "C:\\Users\\Milad\\anaconda3\\lib\\site-packages\\numpy\\core\\_methods.py:161: RuntimeWarning: invalid value encountered in double_scalars\n",
      "  ret = ret.dtype.type(ret / rcount)\n"
     ]
    },
    {
     "ename": "ValueError",
     "evalue": "Shape of array too small to calculate a numerical gradient, at least (edge_order + 1) elements are required.",
     "output_type": "error",
     "traceback": [
      "\u001b[1;31m---------------------------------------------------------------------------\u001b[0m",
      "\u001b[1;31mValueError\u001b[0m                                Traceback (most recent call last)",
      "\u001b[1;32m<ipython-input-11-c41f3ed0e570>\u001b[0m in \u001b[0;36m<module>\u001b[1;34m\u001b[0m\n\u001b[0;32m      3\u001b[0m \u001b[0mout\u001b[0m\u001b[1;33m[\u001b[0m\u001b[1;36m1\u001b[0m\u001b[1;33m]\u001b[0m \u001b[1;33m=\u001b[0m \u001b[0mout\u001b[0m\u001b[1;33m[\u001b[0m\u001b[1;36m1\u001b[0m\u001b[1;33m]\u001b[0m\u001b[1;33m[\u001b[0m\u001b[1;33m~\u001b[0m\u001b[0mnp\u001b[0m\u001b[1;33m.\u001b[0m\u001b[0misnan\u001b[0m\u001b[1;33m(\u001b[0m\u001b[0mout\u001b[0m\u001b[1;33m[\u001b[0m\u001b[1;36m1\u001b[0m\u001b[1;33m]\u001b[0m\u001b[1;33m)\u001b[0m\u001b[1;33m]\u001b[0m\u001b[1;33m\u001b[0m\u001b[1;33m\u001b[0m\u001b[0m\n\u001b[0;32m      4\u001b[0m \u001b[1;33m\u001b[0m\u001b[0m\n\u001b[1;32m----> 5\u001b[1;33m \u001b[0mdx\u001b[0m \u001b[1;33m=\u001b[0m \u001b[0mnp\u001b[0m\u001b[1;33m.\u001b[0m\u001b[0mgradient\u001b[0m\u001b[1;33m(\u001b[0m\u001b[0mout\u001b[0m\u001b[1;33m[\u001b[0m\u001b[1;36m0\u001b[0m\u001b[1;33m]\u001b[0m\u001b[1;33m)\u001b[0m\u001b[1;33m\u001b[0m\u001b[1;33m\u001b[0m\u001b[0m\n\u001b[0m\u001b[0;32m      6\u001b[0m \u001b[0mdy\u001b[0m \u001b[1;33m=\u001b[0m \u001b[0mnp\u001b[0m\u001b[1;33m.\u001b[0m\u001b[0mgradient\u001b[0m\u001b[1;33m(\u001b[0m\u001b[0mout\u001b[0m\u001b[1;33m[\u001b[0m\u001b[1;36m1\u001b[0m\u001b[1;33m]\u001b[0m\u001b[1;33m)\u001b[0m\u001b[1;33m\u001b[0m\u001b[1;33m\u001b[0m\u001b[0m\n\u001b[0;32m      7\u001b[0m \u001b[0mdy_dx\u001b[0m \u001b[1;33m=\u001b[0m \u001b[0mdy\u001b[0m \u001b[1;33m/\u001b[0m \u001b[0mdx\u001b[0m\u001b[1;33m\u001b[0m\u001b[1;33m\u001b[0m\u001b[0m\n",
      "\u001b[1;32m<__array_function__ internals>\u001b[0m in \u001b[0;36mgradient\u001b[1;34m(*args, **kwargs)\u001b[0m\n",
      "\u001b[1;32m~\\anaconda3\\lib\\site-packages\\numpy\\lib\\function_base.py\u001b[0m in \u001b[0;36mgradient\u001b[1;34m(f, *varargs, **kwargs)\u001b[0m\n\u001b[0;32m   1039\u001b[0m     \u001b[1;32mfor\u001b[0m \u001b[0maxis\u001b[0m\u001b[1;33m,\u001b[0m \u001b[0max_dx\u001b[0m \u001b[1;32min\u001b[0m \u001b[0mzip\u001b[0m\u001b[1;33m(\u001b[0m\u001b[0maxes\u001b[0m\u001b[1;33m,\u001b[0m \u001b[0mdx\u001b[0m\u001b[1;33m)\u001b[0m\u001b[1;33m:\u001b[0m\u001b[1;33m\u001b[0m\u001b[1;33m\u001b[0m\u001b[0m\n\u001b[0;32m   1040\u001b[0m         \u001b[1;32mif\u001b[0m \u001b[0mf\u001b[0m\u001b[1;33m.\u001b[0m\u001b[0mshape\u001b[0m\u001b[1;33m[\u001b[0m\u001b[0maxis\u001b[0m\u001b[1;33m]\u001b[0m \u001b[1;33m<\u001b[0m \u001b[0medge_order\u001b[0m \u001b[1;33m+\u001b[0m \u001b[1;36m1\u001b[0m\u001b[1;33m:\u001b[0m\u001b[1;33m\u001b[0m\u001b[1;33m\u001b[0m\u001b[0m\n\u001b[1;32m-> 1041\u001b[1;33m             raise ValueError(\n\u001b[0m\u001b[0;32m   1042\u001b[0m                 \u001b[1;34m\"Shape of array too small to calculate a numerical gradient, \"\u001b[0m\u001b[1;33m\u001b[0m\u001b[1;33m\u001b[0m\u001b[0m\n\u001b[0;32m   1043\u001b[0m                 \"at least (edge_order + 1) elements are required.\")\n",
      "\u001b[1;31mValueError\u001b[0m: Shape of array too small to calculate a numerical gradient, at least (edge_order + 1) elements are required."
     ]
    }
   ],
   "source": [
    "out = interval_avg(x_r,y_r)\n",
    "out[0] = out[0][~np.isnan(out[0])]\n",
    "out[1] = out[1][~np.isnan(out[1])]\n",
    "\n",
    "dx = np.gradient(out[0])\n",
    "dy = np.gradient(out[1])\n",
    "dy_dx = dy / dx\n",
    "\n",
    "angles = np.rad2deg(np.arctan(dy_dx))\n",
    "print(angles)\n",
    "# print('\\nStd : ', angles.std())\n",
    "# print('Mean : ', angles.mean())\n",
    "\n",
    "dx_white = out[0][-1] - out[0][0]\n",
    "dy_white = out[1][-1] - out[1][0]\n",
    "m_white = dy_yellow / dx_yellow"
   ]
  },
  {
   "cell_type": "code",
   "execution_count": 12,
   "metadata": {},
   "outputs": [
    {
     "data": {
      "text/plain": [
       "array([237, 238, 238, 239, 239, 240, 240, 241, 241, 242, 241, 242, 243,\n",
       "       242, 243, 244, 243, 244, 245, 244, 245, 246, 247, 245, 246, 247,\n",
       "       248, 246, 247, 248, 249, 246, 247, 248, 249, 250, 247, 248, 249,\n",
       "       250, 251, 248, 249, 250, 251, 252, 249, 250, 251, 252, 253, 250,\n",
       "       251, 252, 253, 254, 255, 251, 252, 253, 254, 255, 252, 253, 254,\n",
       "       255, 253, 254, 255, 254, 255, 255], dtype=int64)"
      ]
     },
     "execution_count": 12,
     "metadata": {},
     "output_type": "execute_result"
    }
   ],
   "source": [
    "x_r"
   ]
  },
  {
   "cell_type": "code",
   "execution_count": 13,
   "metadata": {},
   "outputs": [
    {
     "data": {
      "text/plain": [
       "array([129, 129, 128, 128, 127, 127, 126, 126, 125, 125, 124, 124, 124,\n",
       "       123, 123, 123, 122, 122, 122, 121, 121, 121, 121, 120, 120, 120,\n",
       "       120, 119, 119, 119, 119, 118, 118, 118, 118, 118, 117, 117, 117,\n",
       "       117, 117, 116, 116, 116, 116, 116, 115, 115, 115, 115, 115, 114,\n",
       "       114, 114, 114, 114, 114, 113, 113, 113, 113, 113, 112, 112, 112,\n",
       "       112, 111, 111, 111, 110, 110, 109], dtype=int64)"
      ]
     },
     "execution_count": 13,
     "metadata": {},
     "output_type": "execute_result"
    }
   ],
   "source": [
    "y_r"
   ]
  },
  {
   "cell_type": "code",
   "execution_count": 14,
   "metadata": {},
   "outputs": [
    {
     "data": {
      "text/plain": [
       "[array([nan, nan, nan, nan, nan, nan, nan, nan, nan, nan, nan, nan, nan,\n",
       "        nan, nan, nan, nan]),\n",
       " array([nan, nan, nan, nan, nan, nan, nan, nan, nan, nan, nan, nan, nan,\n",
       "        nan, nan, nan, nan])]"
      ]
     },
     "execution_count": 14,
     "metadata": {},
     "output_type": "execute_result"
    }
   ],
   "source": [
    "interval_avg(x_r,y_r)"
   ]
  },
  {
   "cell_type": "code",
   "execution_count": 15,
   "metadata": {},
   "outputs": [
    {
     "name": "stdout",
     "output_type": "stream",
     "text": [
      "[42.63975873 40.22282522 48.12752741 56.49501576 57.76102801 58.1086701\n",
      " 59.07697704 58.15173679 49.64464698 40.33504362]\n",
      "\n",
      "Std :  7.434134573182254\n",
      "Mean :  51.0563229663574\n"
     ]
    }
   ],
   "source": [
    "out = interval_avg(x,y)\n",
    "out[0] = out[0][~np.isnan(out[0])]\n",
    "out[1] = out[1][~np.isnan(out[1])]\n",
    "\n",
    "dx = np.gradient(out[0])\n",
    "dy = np.gradient(out[1])\n",
    "dy_dx = dy / dx\n",
    "\n",
    "angles = np.rad2deg(np.arctan(dy_dx))\n",
    "print(angles)\n",
    "print('\\nStd : ', angles.std())\n",
    "print('Mean : ', angles.mean())\n",
    "\n",
    "dx_yellow = out[0][-1] - out[0][0]\n",
    "dy_yellow = out[1][-1] - out[1][0]\n",
    "m_yellow = dy_yellow / dx_yellow"
   ]
  },
  {
   "cell_type": "code",
   "execution_count": null,
   "metadata": {},
   "outputs": [],
   "source": []
  },
  {
   "cell_type": "code",
   "execution_count": null,
   "metadata": {},
   "outputs": [],
   "source": [
    "len(out[0])"
   ]
  },
  {
   "cell_type": "code",
   "execution_count": null,
   "metadata": {},
   "outputs": [],
   "source": [
    "dx_yellow = out[0][-1] - out[0][0]\n",
    "dy_yellow = out[1][-1] - out[1][0]\n",
    "m_yellow = dy_yellow / dx_yellow"
   ]
  },
  {
   "cell_type": "code",
   "execution_count": null,
   "metadata": {},
   "outputs": [],
   "source": [
    "dx_yellow"
   ]
  },
  {
   "cell_type": "code",
   "execution_count": null,
   "metadata": {},
   "outputs": [],
   "source": [
    "dy_yellow"
   ]
  },
  {
   "cell_type": "code",
   "execution_count": null,
   "metadata": {},
   "outputs": [],
   "source": [
    "m_yellow"
   ]
  },
  {
   "cell_type": "code",
   "execution_count": null,
   "metadata": {},
   "outputs": [],
   "source": [
    "m_white"
   ]
  },
  {
   "cell_type": "code",
   "execution_count": null,
   "metadata": {},
   "outputs": [],
   "source": [
    "dx_white"
   ]
  },
  {
   "cell_type": "code",
   "execution_count": null,
   "metadata": {},
   "outputs": [],
   "source": [
    "a = np.array([1,2,np.nan])\n",
    "np.nan_to_num(a)"
   ]
  },
  {
   "cell_type": "code",
   "execution_count": null,
   "metadata": {},
   "outputs": [],
   "source": [
    "a"
   ]
  },
  {
   "cell_type": "code",
   "execution_count": null,
   "metadata": {},
   "outputs": [],
   "source": [
    "(np.round(1.4)) == 1"
   ]
  },
  {
   "cell_type": "code",
   "execution_count": null,
   "metadata": {},
   "outputs": [],
   "source": [
    "np.round(1451, -2)"
   ]
  },
  {
   "cell_type": "code",
   "execution_count": null,
   "metadata": {},
   "outputs": [],
   "source": []
  }
 ],
 "metadata": {
  "kernelspec": {
   "display_name": "Python 3",
   "language": "python",
   "name": "python3"
  },
  "language_info": {
   "codemirror_mode": {
    "name": "ipython",
    "version": 3
   },
   "file_extension": ".py",
   "mimetype": "text/x-python",
   "name": "python",
   "nbconvert_exporter": "python",
   "pygments_lexer": "ipython3",
   "version": "3.8.3"
  }
 },
 "nbformat": 4,
 "nbformat_minor": 4
}
