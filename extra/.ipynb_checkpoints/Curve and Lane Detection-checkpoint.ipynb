{
 "cells": [
  {
   "cell_type": "code",
   "execution_count": null,
   "metadata": {},
   "outputs": [],
   "source": [
    "import numpy as np\n",
    "import os\n",
    "from scipy.interpolate import interp1d\n",
    "import cv2\n",
    "from glob import glob as g\n",
    "import matplotlib.pyplot as plt"
   ]
  },
  {
   "cell_type": "code",
   "execution_count": null,
   "metadata": {},
   "outputs": [],
   "source": [
    "names = g('outputs/*png')\n",
    "names"
   ]
  },
  {
   "cell_type": "code",
   "execution_count": null,
   "metadata": {},
   "outputs": [],
   "source": [
    "# img = np.load(names[0])\n",
    "i = 3\n",
    "print(names[i])\n",
    "img = cv2.imread(names[i])[...,0]\n",
    "img = cv2.medianBlur(img , 3)\n",
    "img_white, img_yellow = np.split(img, 2, axis = 0)\n",
    "img_l = img_white[:,:128]\n",
    "img_r = img_white[:,128:]\n",
    "\n",
    "plt.imshow(img_l)\n",
    "plt.show()\n",
    "plt.imshow(img_r)\n",
    "plt.show()\n",
    "plt.imshow(img_yellow)\n",
    "plt.show()"
   ]
  },
  {
   "cell_type": "code",
   "execution_count": null,
   "metadata": {},
   "outputs": [],
   "source": [
    "# contours, hierarchy = cv2.findContours(img, \n",
    "#     cv2.RETR_EXTERNAL, cv2.CHAIN_APPROX_NONE)\n",
    "# img = cv2.drawContours(img, contours, -1, (255, 255, 255), -1)\n",
    "\n",
    "# plt.imshow(img)"
   ]
  },
  {
   "cell_type": "code",
   "execution_count": null,
   "metadata": {
    "scrolled": true
   },
   "outputs": [],
   "source": [
    "img_where = np.argwhere(img_l)\n",
    "x_l = img_where[:, 1]\n",
    "y_l = 255 - img_where[:, 0]\n",
    "\n",
    "img_where = np.argwhere(img_r)\n",
    "x_r = img_where[:, 1] + 128\n",
    "y_r = 255 - img_where[:, 0]\n",
    "\n",
    "img_where = np.argwhere(img_yellow)\n",
    "x = img_where[:, 1]\n",
    "y = 255 - img_where[:, 0]\n",
    "\n",
    "plt.plot(x_r, y_r)\n",
    "plt.plot(x_l, y_l)\n",
    "plt.plot(x, y)\n",
    "\n",
    "plt.xlim([0, 255])\n",
    "plt.ylim([0,255])"
   ]
  },
  {
   "cell_type": "code",
   "execution_count": null,
   "metadata": {},
   "outputs": [],
   "source": [
    "# To detect if we are on the right lane or the left lane\n",
    "print(img_l.mean())\n",
    "print(img_r.mean())\n",
    "print(img_yellow.mean())"
   ]
  },
  {
   "cell_type": "code",
   "execution_count": null,
   "metadata": {},
   "outputs": [],
   "source": []
  },
  {
   "cell_type": "code",
   "execution_count": null,
   "metadata": {},
   "outputs": [],
   "source": []
  },
  {
   "cell_type": "code",
   "execution_count": null,
   "metadata": {},
   "outputs": [],
   "source": []
  },
  {
   "cell_type": "code",
   "execution_count": null,
   "metadata": {},
   "outputs": [],
   "source": []
  },
  {
   "cell_type": "code",
   "execution_count": null,
   "metadata": {},
   "outputs": [],
   "source": []
  },
  {
   "cell_type": "code",
   "execution_count": null,
   "metadata": {},
   "outputs": [],
   "source": []
  },
  {
   "cell_type": "code",
   "execution_count": null,
   "metadata": {},
   "outputs": [],
   "source": []
  },
  {
   "cell_type": "code",
   "execution_count": null,
   "metadata": {},
   "outputs": [],
   "source": [
    "img_where = np.argwhere(img)\n",
    "x = img_where[:, 1]\n",
    "y = 255 - img_where[:, 0]\n",
    "plt.plot(x[::], y[::])\n",
    "plt.xlim([0, 255])\n",
    "plt.ylim([0,255])"
   ]
  },
  {
   "cell_type": "code",
   "execution_count": null,
   "metadata": {},
   "outputs": [],
   "source": [
    "def interval_avg(x,y):\n",
    "    num_samples = 10\n",
    "    step = (x.max() - x.min()) // num_samples\n",
    "#     intervals = np.\n",
    "    x = np.sort(x)\n",
    "    y = np.sort(y)\n",
    "    intervals = np.arange(x.min(), x.max(), step)\n",
    "    avgs_x = []\n",
    "    avgs_y = []\n",
    "    for i, inter in enumerate(intervals[:-1]):\n",
    "        avg_y = np.mean(y[(x<intervals[i+1]) & (x>intervals[i])])\n",
    "        avg_x = np.mean(x[(x<intervals[i+1]) & (x>intervals[i])])\n",
    "        avgs_x.append(avg_x)\n",
    "        avgs_y.append(avg_y)\n",
    "    return [np.array(avgs_x), np.array(avgs_y)]"
   ]
  },
  {
   "cell_type": "code",
   "execution_count": null,
   "metadata": {},
   "outputs": [],
   "source": [
    "# %%timeit\n",
    "out = interval_avg(x,y)\n",
    "plt.plot(out[0], out[1])"
   ]
  },
  {
   "cell_type": "code",
   "execution_count": null,
   "metadata": {},
   "outputs": [],
   "source": [
    "out[0] = out[0][~np.isnan(out[0])]\n",
    "out[1] = out[1][~np.isnan(out[1])]\n",
    "\n",
    "dx = np.gradient(out[0])\n",
    "dy = np.gradient(out[1])\n",
    "dy_dx = dy / dx"
   ]
  },
  {
   "cell_type": "code",
   "execution_count": null,
   "metadata": {},
   "outputs": [],
   "source": [
    "angles = np.rad2deg(np.arctan(dy_dx))\n",
    "print(angles)\n",
    "print('\\nStd : ', angles.std())\n",
    "print('Mean : ', angles.mean())"
   ]
  },
  {
   "cell_type": "code",
   "execution_count": null,
   "metadata": {
    "scrolled": true
   },
   "outputs": [],
   "source": [
    "45 - np.mean(angles)"
   ]
  },
  {
   "cell_type": "code",
   "execution_count": null,
   "metadata": {},
   "outputs": [],
   "source": [
    "angles[-1] - angles[0]"
   ]
  },
  {
   "cell_type": "code",
   "execution_count": null,
   "metadata": {},
   "outputs": [],
   "source": []
  },
  {
   "cell_type": "code",
   "execution_count": null,
   "metadata": {},
   "outputs": [],
   "source": []
  },
  {
   "cell_type": "code",
   "execution_count": null,
   "metadata": {},
   "outputs": [],
   "source": []
  },
  {
   "cell_type": "code",
   "execution_count": null,
   "metadata": {},
   "outputs": [],
   "source": [
    "# dx_1 = out[0][1:] - out[0][0]\n",
    "# dy_1 = out[1][1:] - out[1][0]\n",
    "# dy1_dx1 = dy_1 / dx_1\n",
    "# angles1 = np.rad2deg(np.arctan(dy1_dx1))\n",
    "# angles1"
   ]
  },
  {
   "cell_type": "code",
   "execution_count": null,
   "metadata": {},
   "outputs": [],
   "source": []
  },
  {
   "cell_type": "code",
   "execution_count": null,
   "metadata": {},
   "outputs": [],
   "source": [
    "plt.imshow(img)"
   ]
  },
  {
   "cell_type": "code",
   "execution_count": null,
   "metadata": {},
   "outputs": [],
   "source": [
    "img[0:100] = 0"
   ]
  },
  {
   "cell_type": "code",
   "execution_count": null,
   "metadata": {},
   "outputs": [],
   "source": []
  }
 ],
 "metadata": {
  "kernelspec": {
   "display_name": "Python 3",
   "language": "python",
   "name": "python3"
  },
  "language_info": {
   "codemirror_mode": {
    "name": "ipython",
    "version": 3
   },
   "file_extension": ".py",
   "mimetype": "text/x-python",
   "name": "python",
   "nbconvert_exporter": "python",
   "pygments_lexer": "ipython3",
   "version": "3.8.3"
  }
 },
 "nbformat": 4,
 "nbformat_minor": 4
}
